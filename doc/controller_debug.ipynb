{
 "cells": [
  {
   "attachments": {},
   "cell_type": "markdown",
   "metadata": {},
   "source": [
    "# Controller Debug\n",
    "This code allows us to figure out any oddities in construction of the controller, including maximums and centering."
   ]
  },
  {
   "cell_type": "code",
   "execution_count": null,
   "metadata": {
    "tags": []
   },
   "outputs": [],
   "source": [
    "import evdev, time\n",
    "joy = evdev.InputDevice('/dev/input/event14')\n",
    "print(joy)"
   ]
  },
  {
   "cell_type": "code",
   "execution_count": null,
   "metadata": {},
   "outputs": [],
   "source": [
    "print(f\"Left Stick X:  {joy.absinfo(evdev.ecodes.ABS_X)}\")\n",
    "print(f\"Left Stick Y:  {joy.absinfo(evdev.ecodes.ABS_Y)}\")\n",
    "print(f\"Right Stick X: {joy.absinfo(evdev.ecodes.ABS_RX)}\")\n",
    "print(f\"Right Stick Y: {joy.absinfo(evdev.ecodes.ABS_RY)}\")"
   ]
  },
  {
   "cell_type": "code",
   "execution_count": null,
   "metadata": {},
   "outputs": [],
   "source": [
    "now = time.time()\n",
    "file = open('controller_debug_data.csv', 'wt', newline='\\n')\n",
    "while True:\n",
    "    file.write(f\"{time.time()-now},{joy.absinfo(evdev.ecodes.ABS_X).value},{joy.absinfo(evdev.ecodes.ABS_Y).value},{joy.absinfo(evdev.ecodes.ABS_RX).value},{joy.absinfo(evdev.ecodes.ABS_RY).value}\\n\")\n",
    "    time.sleep(0.005)"
   ]
  }
 ],
 "metadata": {
  "kernelspec": {
   "display_name": "Python 3",
   "language": "python",
   "name": "python3"
  },
  "language_info": {
   "codemirror_mode": {
    "name": "ipython",
    "version": 3
   },
   "file_extension": ".py",
   "mimetype": "text/x-python",
   "name": "python",
   "nbconvert_exporter": "python",
   "pygments_lexer": "ipython3",
   "version": "3.10.6"
  },
  "orig_nbformat": 4
 },
 "nbformat": 4,
 "nbformat_minor": 2
}
