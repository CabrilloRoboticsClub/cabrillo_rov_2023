{
 "cells": [
  {
   "attachments": {},
   "cell_type": "markdown",
   "metadata": {},
   "source": [
    "# Controller Debug\n",
    "This code allows us to figure out any oddities in construction of the controller, including maximums and centering."
   ]
  },
  {
   "cell_type": "code",
   "execution_count": null,
   "metadata": {
    "tags": []
   },
   "outputs": [],
   "source": [
    "import evdev, time\n",
    "import pathlib \n",
    "\n",
    "for device in pathlib.Path('/dev/input/by-id/').glob('*Xbox*event-joystick'):\n",
    "    print(\"Found joystick device:\", device)\n",
    "joy = evdev.InputDevice(device)\n",
    "print(joy)"
   ]
  },
  {
   "cell_type": "code",
   "execution_count": null,
   "metadata": {},
   "outputs": [],
   "source": [
    "print(f\"Left Stick X:  {joy.absinfo(evdev.ecodes.ABS_X)}\")\n",
    "print(f\"Left Stick Y:  {joy.absinfo(evdev.ecodes.ABS_Y)}\")\n",
    "print(f\"Right Stick X: {joy.absinfo(evdev.ecodes.ABS_RX)}\")\n",
    "print(f\"Right Stick Y: {joy.absinfo(evdev.ecodes.ABS_RY)}\")"
   ]
  },
  {
   "cell_type": "code",
   "execution_count": null,
   "metadata": {},
   "outputs": [],
   "source": [
    "now = time.time()\n",
    "file = open('controller_debug_data.csv', 'wt', newline='\\n')\n",
    "while True:\n",
    "    file.write(f\"{time.time()-now},{joy.absinfo(evdev.ecodes.ABS_X).value},{joy.absinfo(evdev.ecodes.ABS_Y).value},{joy.absinfo(evdev.ecodes.ABS_RX).value},{joy.absinfo(evdev.ecodes.ABS_RY).value}\\n\")\n",
    "    time.sleep(0.005)"
   ]
  },
  {
   "cell_type": "code",
   "execution_count": null,
   "metadata": {},
   "outputs": [],
   "source": [
    "from ipycanvas import Canvas, hold_canvas\n",
    "from collections import namedtuple \n",
    "\n",
    "Point = namedtuple(\"Point\", \"x y\")\n",
    "\n",
    "stick_x = evdev.ecodes.ABS_X\n",
    "stick_y = evdev.ecodes.ABS_Y \n",
    "\n",
    "canvas_size = Point(500, 500)\n",
    "canvas_gutter = Point(50, 50)\n",
    "canvas_origin = Point(canvas_size.x//2 + canvas_gutter.x, canvas_size.y//2 + canvas_gutter.x)\n",
    "joy_size = Point( joy.absinfo(stick_x).max - joy.absinfo(stick_x).min, \n",
    "                 joy.absinfo(stick_y).max - joy.absinfo(stick_y).min,\n",
    "                 )\n",
    "joy_origin = Point(0, 0)\n",
    "\n",
    "canvas = Canvas(width=canvas_size.x+2*canvas_gutter.x, height=canvas_size.y+2*canvas_gutter.x)\n",
    "display(canvas)\n",
    "\n",
    "history_size = 100 \n",
    "history = [Point(0,0)] * history_size\n",
    "index = 0\n",
    "while True:\n",
    "    val = Point(\n",
    "        (joy.absinfo(stick_x).value - joy_origin.x) * (canvas_size.x / joy_size.x) + canvas_origin.x,\n",
    "        (joy.absinfo(stick_y).value - joy_origin.y) * (canvas_size.y / joy_size.y) + canvas_origin.y,\n",
    "    )\n",
    "    history[index] = val \n",
    "    index = (index + 1) % history_size \n",
    "    with hold_canvas():\n",
    "        canvas.clear()\n",
    "        for i, h in enumerate(history[index:] + history[0:index]):\n",
    "            canvas.global_alpha = (i / history_size)\n",
    "            canvas.fill_circle(h.x, h.y, 10)\n",
    "        time.sleep(0.02)"
   ]
  }
 ],
 "metadata": {
  "kernelspec": {
   "display_name": "Python 3",
   "language": "python",
   "name": "python3"
  },
  "language_info": {
   "codemirror_mode": {
    "name": "ipython",
    "version": 3
   },
   "file_extension": ".py",
   "mimetype": "text/x-python",
   "name": "python",
   "nbconvert_exporter": "python",
   "pygments_lexer": "ipython3",
   "version": "3.10.6"
  },
  "orig_nbformat": 4
 },
 "nbformat": 4,
 "nbformat_minor": 2
}
